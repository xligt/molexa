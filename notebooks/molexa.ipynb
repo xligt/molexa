{
 "cells": [
  {
   "cell_type": "code",
   "execution_count": 1,
   "id": "7b95871b-08d1-414c-8bf3-5ae503eb8a1f",
   "metadata": {},
   "outputs": [
    {
     "name": "stdout",
     "output_type": "stream",
     "text": [
      "device: cuda\n"
     ]
    }
   ],
   "source": [
    "import os, sys, logging\n",
    "import torch\n",
    "\n",
    "from torch import nn, tensor\n",
    "from functools import partial\n",
    "\n",
    "sys.path.append(os.path.join(os.getcwd(), '..'))\n",
    "from utils.DataLoaders_jupyter import Get_Dataset, Create_DataLoaders\n",
    "from utils.DataLoaders_noSplit import Get_Dataset_noSplit, Create_DataLoaders_noSplit\n",
    "from utils.Learner import Learner\n",
    "from utils.Callbacks import TrainCB, DeviceCB, MetricsCB, BatchSchedCB, SaveCB\n",
    "from utils.utils_ML import Adam, set_seed, LayerNorm, MeanAbsoluteError, EDM_MSELoss, MSELoss, EDM_MSELoss_EvalLoss\n",
    "from utils.Callbacks import to_device, ProgressCB\n",
    "from utils.download import download_dataset_weights\n",
    "from torcheval.metrics import MeanSquaredError\n",
    "from model.XMolNet import XMolNet\n",
    "\n",
    "\n",
    "torch.set_printoptions(precision=5, linewidth=140, sci_mode=False)\n",
    "torch.manual_seed(1)\n",
    "logging.disable(logging.WARNING)\n",
    "def_device = 'cuda' if torch.cuda.is_available() else 'cpu'\n",
    "print('device:',def_device)\n",
    "\n",
    "\n",
    "%load_ext autoreload\n",
    "%autoreload 2\n"
   ]
  },
  {
   "cell_type": "code",
   "execution_count": 2,
   "id": "8b3bfce0-34d1-4809-a0db-ea797dd8a60c",
   "metadata": {},
   "outputs": [
    {
     "name": "stderr",
     "output_type": "stream",
     "text": [
      "Downloading...\n",
      "From: https://drive.google.com/uc?id=1TR_bS2GRgz-HqnP_NA566y1eogbORw8F\n",
      "To: /sdf/data/lcls/ds/prj/prjsim00221/results/molexa_git/download/dataset.zip\n",
      "100%|██████████████████████████████████████| 22.0M/22.0M [00:00<00:00, 65.4MB/s]\n"
     ]
    },
    {
     "name": "stdout",
     "output_type": "stream",
     "text": [
      "File downloaded successfully to ../download/dataset.zip\n",
      "Contents extracted to ../download/dataset\n"
     ]
    },
    {
     "name": "stderr",
     "output_type": "stream",
     "text": [
      "Downloading...\n",
      "From (original): https://drive.google.com/uc?id=114-Qe5rrJc4nghPRBZ9_xEqK1XteJ2bb\n",
      "From (redirected): https://drive.google.com/uc?id=114-Qe5rrJc4nghPRBZ9_xEqK1XteJ2bb&confirm=t&uuid=a234f9a0-e97c-45c6-8502-13fb26590c0f\n",
      "To: /sdf/data/lcls/ds/prj/prjsim00221/results/molexa_git/download/model.zip\n",
      "100%|████████████████████████████████████████| 148M/148M [00:01<00:00, 89.5MB/s]\n"
     ]
    },
    {
     "name": "stdout",
     "output_type": "stream",
     "text": [
      "File downloaded successfully to ../download/model.zip\n",
      "Contents extracted to ../download/model\n"
     ]
    }
   ],
   "source": [
    "download_dataset_weights()"
   ]
  },
  {
   "cell_type": "markdown",
   "id": "a4d6e563-d9c3-4a18-bc91-5e794a4759a1",
   "metadata": {},
   "source": [
    "## Set up model"
   ]
  },
  {
   "cell_type": "code",
   "execution_count": 2,
   "id": "ccad4225-6c56-445d-98cf-4cafccfa3333",
   "metadata": {},
   "outputs": [],
   "source": [
    "epochs = 3\n",
    "lr = 0.001\n",
    "beta1 = 0.9\n",
    "beta2 = 0.99\n",
    "\n",
    "sv_step_size = 200\n",
    "sv_prefix = 'model_'\n",
    "\n",
    "diffu_params = \\\n",
    "    {'y_c': tensor([0., -0., -0.]),\n",
    "     'y_hw': tensor([23.59669, 19.97351, 15.76245]),\n",
    "     'n_diffu': 1,#8,\n",
    "     'P_mean': -1.2,\n",
    "     'P_std': 1.2,\n",
    "     'sigma_data': 0.25}\n",
    "\n",
    "\n",
    "natts_diffu = 2\n",
    "    \n",
    "num_steps =  15\n",
    "\n",
    "z_max = 20\n",
    "z_emb_dim = 64\n",
    "q_max = 20\n",
    "q_emb_dim = 64\n",
    "pos_out_dim = 64\n",
    "\n",
    "natts = 6\n",
    "scale = 4\n",
    "att_dim = int(128*scale)\n",
    "nheads = int(8*scale)\n",
    "\n",
    "denoise = True\n",
    "sample = False\n",
    "loss_eval_c = 1\n",
    "err_bin_center = torch.arange(0, 10, 0.05)\n",
    "\n",
    "model = XMolNet(z_max, z_emb_dim, q_max, q_emb_dim, pos_out_dim, att_dim=att_dim, diffu_params = diffu_params, natts=natts, nheads=nheads, \n",
    "                dot_product=True, res=True, act1=nn.ReLU, act2=nn.ReLU, norm=LayerNorm, attention_type='full', lstm=True, sumup=False, \n",
    "                num_steps=num_steps, natts_diffu=natts_diffu, err_bin_center=err_bin_center, denoise=denoise, sample=sample)\n",
    "\n"
   ]
  },
  {
   "cell_type": "code",
   "execution_count": 3,
   "id": "a76a8a2b-a5aa-4709-8dfc-83b7816af163",
   "metadata": {},
   "outputs": [
    {
     "name": "stdout",
     "output_type": "stream",
     "text": [
      "# of valid: 8580 # of train: 60832\n"
     ]
    }
   ],
   "source": [
    "tls_train, tls_valid = Get_Dataset(path='../download/dataset/dataset_2_7/', rank=0) \n",
    "dls = Create_DataLoaders(tls_train, tls_valid, batch_size=32, sampler=None, vshuffle=True)\n",
    "\n",
    "load_path = '../download/model/molexa.chk'\n",
    "\n",
    "loss_func = EDM_MSELoss_EvalLoss(diffu_params=diffu_params, loss_eval_c = loss_eval_c, err_bin_center=err_bin_center, device='cuda')\n",
    "val_loss_func = MSELoss()\n",
    "MCB = MetricsCB(mae=MeanAbsoluteError(), mse_eval=MeanSquaredError())\n",
    "\n",
    "SCB = SaveCB(epochs=epochs, step_size=sv_step_size, save_dir='.', prefix=sv_prefix)\n",
    "cbs = [TrainCB(), DeviceCB(), MCB, ProgressCB(plot=False)]\n",
    "xtra = []\n",
    "learn = Learner(model.to(def_device), dls, loss_func=loss_func, val_loss_func=val_loss_func, cbs=cbs+xtra, load_path=load_path, opt_func=torch.optim.Adam, lr=lr, \n",
    "                beta1=beta1, beta2=beta2) \n",
    "\n",
    "learn.model.num_steps=5\n",
    "learn.model.sigma_min=0.002\n",
    "learn.model.sigma_max=80\n",
    "learn.model.rho=1.5#7\n",
    "\n",
    "learn.model.S_churn=30\n",
    "learn.model.S_min=0.01\n",
    "learn.model.S_max=1\n",
    "learn.model.S_noise=1.1#1.007\n",
    "\n",
    "learn.model.heun=False\n",
    "learn.model.step_scale = 1"
   ]
  },
  {
   "cell_type": "markdown",
   "id": "4c6a8676-6004-448c-a666-216af449ca93",
   "metadata": {},
   "source": [
    "## Get model performance on validation data"
   ]
  },
  {
   "cell_type": "code",
   "execution_count": 4,
   "id": "b7666b90-bd43-46a4-8c8f-bb05b7842d77",
   "metadata": {},
   "outputs": [
    {
     "name": "stdout",
     "output_type": "stream",
     "text": [
      "epoch           loss_v          mae_v           mse_eval_v      lr              beta1           beta2           time            rank           \n"
     ]
    },
    {
     "data": {
      "text/html": [
       "\n",
       "<style>\n",
       "    /* Turns off some styling */\n",
       "    progress {\n",
       "        /* gets rid of default border in Firefox and Opera. */\n",
       "        border: none;\n",
       "        /* Needs to be in here for Safari polyfill so background images work as expected. */\n",
       "        background-size: auto;\n",
       "    }\n",
       "    progress:not([value]), progress:not([value])::-webkit-progress-bar {\n",
       "        background: repeating-linear-gradient(45deg, #7e7e7e, #7e7e7e 10px, #5c5c5c 10px, #5c5c5c 20px);\n",
       "    }\n",
       "    .progress-bar-interrupted, .progress-bar-interrupted::-webkit-progress-bar {\n",
       "        background: #F44336;\n",
       "    }\n",
       "</style>\n"
      ],
      "text/plain": [
       "<IPython.core.display.HTML object>"
      ]
     },
     "metadata": {},
     "output_type": "display_data"
    },
    {
     "data": {
      "text/html": [],
      "text/plain": [
       "<IPython.core.display.HTML object>"
      ]
     },
     "metadata": {},
     "output_type": "display_data"
    },
    {
     "name": "stdout",
     "output_type": "stream",
     "text": [
      "0               1.02814         0.529393024     0.465253979     0.001000000     0.900           0.990           01:06:30,01-11  0              \n"
     ]
    }
   ],
   "source": [
    "learn.fit(1, train=False, valid=True)"
   ]
  },
  {
   "cell_type": "markdown",
   "id": "66e4e324-9c18-4a6c-a535-920c7620ba10",
   "metadata": {},
   "source": [
    "# Prediction of single molecule"
   ]
  },
  {
   "cell_type": "code",
   "execution_count": 11,
   "id": "186a45bf-eb1f-43ad-8689-35986055037e",
   "metadata": {},
   "outputs": [
    {
     "name": "stdout",
     "output_type": "stream",
     "text": [
      "# of samples: 8762\n"
     ]
    }
   ],
   "source": [
    "tls = Get_Dataset_noSplit(path='../download/dataset/dataset_2_7/test/', rank=0)    \n",
    "# tls = Get_Dataset_noSplit(path='../download/dataset/dataset_8_9/', rank=0)    \n",
    "dls = Create_DataLoaders_noSplit(tls, batch_size=1, sampler=None, vshuffle=False)"
   ]
  },
  {
   "cell_type": "code",
   "execution_count": 12,
   "id": "488216ee-b269-4810-ba33-577da72de8fc",
   "metadata": {},
   "outputs": [
    {
     "name": "stdout",
     "output_type": "stream",
     "text": [
      "Molecule: Cl2H2Si\n",
      "+-----+------------+------------+------------+\n",
      "| Atom |   X (a.u.) |   Y (a.u.) |   Z (a.u.) |\n",
      "+-----+------------+------------+------------+\n",
      "Prediction:\n",
      "| Cl  |      3.657 |      0.001 |     -0.021 |\n",
      "+-----+------------+------------+------------+\n",
      "| H   |     -1.072 |      2.659 |      0.014 |\n",
      "+-----+------------+------------+------------+\n",
      "| Cl  |     -1.608 |     -1.897 |     -2.581 |\n",
      "+-----+------------+------------+------------+\n",
      "| Si  |     -0.139 |      0.125 |      0.003 |\n",
      "+-----+------------+------------+------------+\n",
      "| H   |     -1.071 |     -0.922 |      2.557 |\n",
      "+-----+------------+------------+------------+\n",
      "Ground truth:\n",
      "| Cl  |      3.757 |     -0.000 |     -0.000 |\n",
      "+-----+------------+------------+------------+\n",
      "| H   |     -0.938 |      2.794 |      0.000 |\n",
      "+-----+------------+------------+------------+\n",
      "| Cl  |     -1.741 |     -1.846 |     -2.770 |\n",
      "+-----+------------+------------+------------+\n",
      "| Si  |     -0.140 |      0.220 |      0.131 |\n",
      "+-----+------------+------------+------------+\n",
      "| H   |     -0.938 |     -1.076 |      2.578 |\n",
      "+-----+------------+------------+------------+\n",
      "RMSE (a.u.): 0.106 MAE (a.u.): 0.087\n"
     ]
    }
   ],
   "source": [
    "\n",
    "no_filter = False\n",
    "mol_tp = '5'\n",
    "mol_name = 'Cl2H2Si'\n",
    "# mol_tp = '8'\n",
    "# mol_name = 'C2H3N3'\n",
    "\n",
    "Z_dict_inverse = {1: 'H', 6: 'C', 7: 'N', 8: 'O', 9: 'F', 14: 'Si', 15: 'P', 16: 'S', 17: 'Cl'}\n",
    "\n",
    "indent = \" \" * 0\n",
    "\n",
    "for batch in dls.samples:\n",
    "    if no_filter or (batch.mol_name[0]==mol_name and batch.mol_tp[0]==mol_tp):\n",
    "        batch = to_device(batch)\n",
    "        pred = (learn.predict_batch(batch)).squeeze()\n",
    "        ys = batch.y\n",
    "        zs = batch.z.tolist()\n",
    "\n",
    "        RMSE = ((pred-ys)**2).mean().sqrt()       \n",
    "        MAE = torch.abs(pred-ys).mean()\n",
    "        \n",
    "        print('Molecule:', batch.mol_name[0])\n",
    "        print(f\"{indent}+-----+------------+------------+------------+\")\n",
    "        print(f\"{indent}| {'Atom':<3} | {'X (a.u.)':>10} | {'Y (a.u.)':>10} | {'Z (a.u.)':>10} |\")\n",
    "        print(f\"{indent}+-----+------------+------------+------------+\")       \n",
    "        print('Prediction:')\n",
    "        for i, row in enumerate(pred):\n",
    "            atom_name = Z_dict_inverse[zs[i]]\n",
    "            x, y, z = map(lambda coord: round(coord, 3), row.tolist())\n",
    "            print(f\"{indent}| {atom_name:<3} | {x:>10.3f} | {y:>10.3f} | {z:>10.3f} |\")\n",
    "            print(f\"{indent}+-----+------------+------------+------------+\")\n",
    "            \n",
    "        print('Ground truth:')\n",
    "        for i, row in enumerate(ys):\n",
    "            atom_name = Z_dict_inverse[zs[i]]\n",
    "            x, y, z = map(lambda coord: round(coord, 3), row.tolist())\n",
    "            print(f\"{indent}| {atom_name:<3} | {x:>10.3f} | {y:>10.3f} | {z:>10.3f} |\")\n",
    "            print(f\"{indent}+-----+------------+------------+------------+\")\n",
    "            \n",
    "        print('RMSE (a.u.):', round(RMSE.item(),3), 'MAE (a.u.):', round(MAE.item(), 3)) \n",
    "\n",
    "        break \n",
    "        \n",
    "\n",
    "\n"
   ]
  },
  {
   "cell_type": "code",
   "execution_count": null,
   "id": "6b231362-1e87-4da7-88d1-86733f429165",
   "metadata": {},
   "outputs": [],
   "source": []
  }
 ],
 "metadata": {
  "kernelspec": {
   "display_name": "Python 3 (ipykernel)",
   "language": "python",
   "name": "python3"
  },
  "language_info": {
   "codemirror_mode": {
    "name": "ipython",
    "version": 3
   },
   "file_extension": ".py",
   "mimetype": "text/x-python",
   "name": "python",
   "nbconvert_exporter": "python",
   "pygments_lexer": "ipython3",
   "version": "3.12.2"
  }
 },
 "nbformat": 4,
 "nbformat_minor": 5
}
