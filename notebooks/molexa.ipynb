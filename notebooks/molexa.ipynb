{
 "cells": [
  {
   "cell_type": "code",
   "execution_count": 1,
   "id": "7b95871b-08d1-414c-8bf3-5ae503eb8a1f",
   "metadata": {},
   "outputs": [
    {
     "name": "stdout",
     "output_type": "stream",
     "text": [
      "device: cuda\n"
     ]
    }
   ],
   "source": [
    "%matplotlib inline\n",
    "import matplotlib.pyplot as plt\n",
    "import os, sys, logging, torch\n",
    "import pandas as pd\n",
    "import numpy as np\n",
    "from torch import nn, tensor\n",
    "from functools import partial\n",
    "\n",
    "sys.path.append(os.path.join(os.getcwd(), '..'))\n",
    "from utils.create_batch import sort_atoms, momentum_transform, geom_transform, get_batch\n",
    "from utils.DataLoaders_jupyter import Get_Dataset, Create_DataLoaders\n",
    "from utils.DataLoaders_noSplit import Get_Dataset_noSplit, Create_DataLoaders_noSplit\n",
    "from utils.Learner import Learner\n",
    "from utils.Callbacks import TrainCB, DeviceCB, MetricsCB, BatchSchedCB, SaveCB\n",
    "from utils.utils_ML import Adam, set_seed, LayerNorm, MeanAbsoluteError, EDM_MSELoss, MSELoss, EDM_MSELoss_EvalLoss\n",
    "from utils.Callbacks import to_device, ProgressCB\n",
    "from utils.download import download_dataset_weights, load_obj\n",
    "from torcheval.metrics import MeanSquaredError\n",
    "from model.XMolNet import XMolNet\n",
    "\n",
    "\n",
    "torch.set_printoptions(precision=5, linewidth=140, sci_mode=False)\n",
    "torch.manual_seed(1)\n",
    "logging.disable(logging.WARNING)\n",
    "def_device = 'cuda' if torch.cuda.is_available() else 'cpu'\n",
    "print('device:',def_device)\n",
    "\n",
    "\n",
    "%load_ext autoreload\n",
    "%autoreload 2\n",
    "\n",
    "Z_dict = {'H':1, 'C':6, 'N':7, 'O':8, 'F':9, 'Si': 14, 'P':15, 'S': 16, 'Cl':17, 'Br':35, 'I':53}\n",
    "Z_dict_inverse = {1: 'H', 6: 'C', 7: 'N', 8: 'O', 9: 'F', 14: 'Si', 15: 'P', 16: 'S', 17: 'Cl'}\n",
    "indent = \" \" * 0"
   ]
  },
  {
   "cell_type": "code",
   "execution_count": 2,
   "id": "8b3bfce0-34d1-4809-a0db-ea797dd8a60c",
   "metadata": {},
   "outputs": [],
   "source": [
    "download_dataset_weights()"
   ]
  },
  {
   "cell_type": "markdown",
   "id": "a4d6e563-d9c3-4a18-bc91-5e794a4759a1",
   "metadata": {},
   "source": [
    "## Set up model"
   ]
  },
  {
   "cell_type": "code",
   "execution_count": 3,
   "id": "ccad4225-6c56-445d-98cf-4cafccfa3333",
   "metadata": {},
   "outputs": [],
   "source": [
    "epochs = 3\n",
    "lr = 0.001\n",
    "beta1 = 0.9\n",
    "beta2 = 0.99\n",
    "\n",
    "sv_step_size = 200\n",
    "sv_prefix = 'model_'\n",
    "\n",
    "diffu_params = \\\n",
    "    {'y_c': tensor([0., -0., -0.]),\n",
    "     'y_hw': tensor([23.59669, 19.97351, 15.76245]),\n",
    "     'n_diffu': 1,#8,\n",
    "     'P_mean': -1.2,\n",
    "     'P_std': 1.2,\n",
    "     'sigma_data': 0.25}\n",
    "\n",
    "\n",
    "natts_diffu = 2\n",
    "    \n",
    "num_steps =  15\n",
    "\n",
    "z_max = 20\n",
    "z_emb_dim = 64\n",
    "q_max = 20\n",
    "q_emb_dim = 64\n",
    "pos_out_dim = 64\n",
    "\n",
    "natts = 6\n",
    "scale = 4\n",
    "att_dim = int(128*scale)\n",
    "nheads = int(8*scale)\n",
    "\n",
    "denoise = True\n",
    "sample = False\n",
    "loss_eval_c = 1\n",
    "err_bin_center = torch.arange(0, 10, 0.05)\n",
    "\n",
    "model = XMolNet(z_max, z_emb_dim, q_max, q_emb_dim, pos_out_dim, att_dim=att_dim, diffu_params = diffu_params, natts=natts, nheads=nheads, \n",
    "                dot_product=True, res=True, act1=nn.ReLU, act2=nn.ReLU, norm=LayerNorm, attention_type='full', lstm=True, sumup=False, \n",
    "                num_steps=num_steps, natts_diffu=natts_diffu, err_bin_center=err_bin_center, denoise=denoise, sample=sample)\n",
    "\n"
   ]
  },
  {
   "cell_type": "code",
   "execution_count": 4,
   "id": "a76a8a2b-a5aa-4709-8dfc-83b7816af163",
   "metadata": {},
   "outputs": [
    {
     "name": "stdout",
     "output_type": "stream",
     "text": [
      "# of valid: 8580 # of train: 60832\n"
     ]
    }
   ],
   "source": [
    "tls_train, tls_valid = Get_Dataset(path='../download/dataset/dataset_2_7/', rank=0) \n",
    "dls = Create_DataLoaders(tls_train, tls_valid, batch_size=128, sampler=None, vshuffle=True)\n",
    "\n",
    "load_path = '../download/model/molexa.chk'\n",
    "\n",
    "loss_func = EDM_MSELoss_EvalLoss(diffu_params=diffu_params, loss_eval_c = loss_eval_c, err_bin_center=err_bin_center, device='cuda')\n",
    "val_loss_func = MSELoss()\n",
    "MCB = MetricsCB(mae=MeanAbsoluteError(), mse_eval=MeanSquaredError())\n",
    "\n",
    "SCB = SaveCB(epochs=epochs, step_size=sv_step_size, save_dir='.', prefix=sv_prefix)\n",
    "cbs = [TrainCB(), DeviceCB(), MCB, ProgressCB(plot=False)]\n",
    "xtra = []\n",
    "learn = Learner(model.to(def_device), dls, loss_func=loss_func, val_loss_func=val_loss_func, cbs=cbs+xtra, load_path=load_path, opt_func=torch.optim.Adam, lr=lr, \n",
    "                beta1=beta1, beta2=beta2) \n",
    "\n",
    "learn.model.num_steps=5\n",
    "learn.model.sigma_min=0.002\n",
    "learn.model.sigma_max=80\n",
    "learn.model.rho=1.5#7\n",
    "\n",
    "learn.model.S_churn=30\n",
    "learn.model.S_min=0.01\n",
    "learn.model.S_max=1\n",
    "learn.model.S_noise=1.1#1.007\n",
    "\n",
    "learn.model.heun=False\n",
    "learn.model.step_scale = 1"
   ]
  },
  {
   "cell_type": "markdown",
   "id": "4c6a8676-6004-448c-a666-216af449ca93",
   "metadata": {},
   "source": [
    "## Get model performance on validation data"
   ]
  },
  {
   "cell_type": "code",
   "execution_count": 18,
   "id": "b7666b90-bd43-46a4-8c8f-bb05b7842d77",
   "metadata": {},
   "outputs": [
    {
     "name": "stdout",
     "output_type": "stream",
     "text": [
      "epoch           loss_v          mae_v           mse_eval_v      lr              beta1           beta2           time            rank           \n"
     ]
    },
    {
     "data": {
      "text/html": [
       "\n",
       "<style>\n",
       "    /* Turns off some styling */\n",
       "    progress {\n",
       "        /* gets rid of default border in Firefox and Opera. */\n",
       "        border: none;\n",
       "        /* Needs to be in here for Safari polyfill so background images work as expected. */\n",
       "        background-size: auto;\n",
       "    }\n",
       "    progress:not([value]), progress:not([value])::-webkit-progress-bar {\n",
       "        background: repeating-linear-gradient(45deg, #7e7e7e, #7e7e7e 10px, #5c5c5c 10px, #5c5c5c 20px);\n",
       "    }\n",
       "    .progress-bar-interrupted, .progress-bar-interrupted::-webkit-progress-bar {\n",
       "        background: #F44336;\n",
       "    }\n",
       "</style>\n"
      ],
      "text/plain": [
       "<IPython.core.display.HTML object>"
      ]
     },
     "metadata": {},
     "output_type": "display_data"
    },
    {
     "data": {
      "text/html": [],
      "text/plain": [
       "<IPython.core.display.HTML object>"
      ]
     },
     "metadata": {},
     "output_type": "display_data"
    },
    {
     "name": "stdout",
     "output_type": "stream",
     "text": [
      "0               1.04305         0.535756527     0.474880189     0.001000000     0.900           0.990           23:19:16,01-19  0              \n"
     ]
    }
   ],
   "source": [
    "learn.fit(1, train=False, valid=True)"
   ]
  },
  {
   "cell_type": "code",
   "execution_count": null,
   "id": "ec6d5e44-533d-411b-b811-38909209d0be",
   "metadata": {},
   "outputs": [],
   "source": []
  },
  {
   "cell_type": "markdown",
   "id": "f897b097-4bf2-42d2-937d-a30851936f8c",
   "metadata": {},
   "source": [
    "## Single molecule prediction"
   ]
  },
  {
   "cell_type": "markdown",
   "id": "2ba3d8ff-46c8-44e7-a5e1-ec30801e39f0",
   "metadata": {},
   "source": [
    "### 1. Input"
   ]
  },
  {
   "cell_type": "markdown",
   "id": "529593b7-e56f-4c83-95c9-5dbd294761fd",
   "metadata": {},
   "source": [
    "#### Option A - Use the data in the test dataset"
   ]
  },
  {
   "cell_type": "code",
   "execution_count": 5,
   "id": "9ebc566e-2131-4994-a126-bc1da84c0e55",
   "metadata": {},
   "outputs": [
    {
     "name": "stdout",
     "output_type": "stream",
     "text": [
      "Available molecules:\n",
      "['C2F3N', 'H4Si2', 'H2N2O2', 'ClF5', 'CH3F2P', 'H3O3P', 'Cl2H2Si', 'H2N2O', 'ClF3Si', 'CH2Cl2', 'FN', 'HP', 'ClF', 'NO', 'CS2', 'CCl2', 'CClN', 'H2Si', 'C2O', 'H4SSi', 'F3HSi', 'Cl2FN', 'Cl2OS', 'F3S', 'CHN', 'CH2', 'C2H2N2O', 'CH4N', 'CH2Cl3P', 'F3NO2S', 'CH4N2O', 'C2H4O2', 'C2HF5', 'CH4Cl2Si', 'C2H2F2O2', 'C3H2OS2', 'CH2N4O', 'C2H4ClF', 'CH4N2S', 'CH3Cl3Si', 'C4H2O2', 'C2H2Cl2O2', 'F6Si2', 'H4N4', 'C2H2N4', 'C3H4O', 'C2H3ClN2', 'C3H2O2S', 'CH3Cl2OP', 'CH3FO2S', 'CH3F3Si', 'C2H3ClOS', 'C2H2Cl3F', 'C2H2Cl4', 'CH2Cl2O2S', 'H3NO3S', 'CH4O2S', 'C2H5Cl', 'C3H4S', 'CH3F2OP', 'C2H4Cl2', 'H3N5', 'C2H3O3', 'C2H4F2', 'C2H2Cl2OS', 'C2HF3O2', 'C2H5S', 'CH3ClFOP', 'C2H2F4', 'C2H3FO2', 'C2H5O', 'CH5NO', 'C3H2O3', 'C2HN5', 'C2H5N', 'C2H4S2', 'C2H2O4', 'C4H2N2', 'C2H2Cl2F2', 'C2HClF4', 'C3H2S3', 'C2H3N3', 'C2H4OS', 'C3H5', 'CH3NO3', 'C2H3F3', 'C3H4N', 'C2H5F', 'C2H5P', 'CH6Si', 'H3O4P', 'C4H4', 'H6Si2', 'CH3ClO2S', 'C3H3NO', 'C3H3NS', 'F5HSi2', 'C2HF3OS', 'C2H3Cl3', 'CH4ClFSi', 'C2H4N2', 'C2H5FSi', 'C2H5ClS', 'C2H6Si', 'CH6SSi', 'CH6OSi', 'H6SSi2', 'C3H5P', 'C2H4FNO', 'C3H3NO2', 'C2H3ClO2S', 'C3H5O', 'CH5N3', 'C4H2N2S', 'C2H3NO3', 'C2H3N3S', 'C2H5ClO', 'C2H5FO', 'C2H3Cl2NO', 'C3H3ClN2', 'C3H5Cl', 'C4H4S', 'CH6ClN', 'C3H3FN2', 'C4H5', 'C3H4N2', 'C2H2F3NO', 'C4H3ClS', 'C2H4O3', 'C2H3F2NO', 'C2H4OS2', 'CH2N2O4', 'C3H4Cl2', 'C2H3F3O', 'C2H4Cl2O', 'C4H3ClO', 'CH3N5', 'C3H3NS2', 'C3H4O2', 'C2H4S3', 'C4H4O', 'C3H3Cl3', 'C2H4ClNO', 'C2H4O2S', 'C2H6O', 'C2H3Cl3O', 'CH3F2O2P', 'C3H2N2S2', 'C2H5NO', 'C2H6S', 'C4H3NS', 'C3H3F3', 'C2H4F2O', 'C2H3N3O', 'F4H2SSi2', 'C3H5N', 'C3H5F']\n"
     ]
    }
   ],
   "source": [
    "# Check available molecules in the test dataset\n",
    "test_molecule_locations = load_obj('../download/dataset/test_molecule_locations.pkl')\n",
    "print('Available molecules:')\n",
    "print(list(test_molecule_locations.keys()))"
   ]
  },
  {
   "cell_type": "code",
   "execution_count": 6,
   "id": "4e3282bd-6fda-45a9-bf32-fcaff7a46158",
   "metadata": {},
   "outputs": [
    {
     "name": "stdout",
     "output_type": "stream",
     "text": [
      "Available molecules for CH2Cl2:\n",
      "['5_1_10', '5_3_1', '5_1_6', '5_4_2', '5_4_10', '5_4_7', '5_3_3', '5_4_8', '5_1_2', '5_4_9', '5_4_4', '5_2_10', '5_4_5', '5_2_2', '5_2_4', '5_3_9', '5_3_8', '5', '5_3_4', '5_1_5', '5_1_3', '5_2_5', '5_2_7', '5_1_9', '5_1_8', '5_4_3', '5_4_6', '5_2_3', '5_3_10', '5_2_9', '5_2_6', '5_4_1', '5_1_7', '5_1_1', '5_2_8', '5_2_1', '5_3_5', '5_3_2', '5_1_4']\n"
     ]
    }
   ],
   "source": [
    "# Pick a molecule and check the available variations for it, use 'CH2Cl2' in this case\n",
    "mol_name = 'CH2Cl2'\n",
    "print('Available variations for '+ mol_name+':')\n",
    "print(list(test_molecule_locations[mol_name].keys()))"
   ]
  },
  {
   "cell_type": "code",
   "execution_count": 7,
   "id": "a753d685-281f-4b42-806b-44ad2b001da3",
   "metadata": {},
   "outputs": [
    {
     "name": "stdout",
     "output_type": "stream",
     "text": [
      "Available charge state identifiers for CH2Cl2 variation type 5:\n",
      "[0, 1, 2, 3, 4, 5, 6, 7, 8, 9, 10, 11, 12, 13, 14, 15, 16, 17, 18, 19, 20, 21, 22, 23, 24, 25, 26, 27, 28, 29, 30, 31, 32, 33, 34, 35, 36, 37, 38, 39, 40]\n"
     ]
    }
   ],
   "source": [
    "# Choose the variation type for this molecule, use '5' for this case, which is the ground state.\n",
    "# For the other variabions like '5_2_1', the first number (5) is the number of atoms, \n",
    "# the second number (2) is the number of atoms that was moved with respect to the ground state\n",
    "# the third number (1) is the dataset index.\n",
    "# Check the available charge state identifiers.\n",
    "variation = '5'\n",
    "print('Available charge state identifiers for '+ mol_name+' with variation type ' + variation + ':')\n",
    "print(list(test_molecule_locations[mol_name][variation].keys()))"
   ]
  },
  {
   "cell_type": "code",
   "execution_count": 15,
   "id": "bd711877-d374-42cd-9fca-f455a14a86fe",
   "metadata": {},
   "outputs": [
    {
     "name": "stdout",
     "output_type": "stream",
     "text": [
      "The molecule CH2Cl2 with variation type 5 and charge state id 40 can be found at ../download/dataset/dataset_2_7/test/5.pkl with index 40\n"
     ]
    }
   ],
   "source": [
    "# choose the charge state id for this molecule, use 40 for this case\n",
    "charge_state_id = 40\n",
    "location, df_index = test_molecule_locations[mol_name][variation][charge_state_id]\n",
    "print('The molecule ' + mol_name + ' with variation type ' + variation + ' and charge state id ' + str(charge_state_id)\n",
    "      + ' can be found at '+location + ' with index ' + str(df_index))"
   ]
  },
  {
   "cell_type": "code",
   "execution_count": 16,
   "id": "ba762c98-1aac-406a-aaf5-c78f2094a8c0",
   "metadata": {},
   "outputs": [],
   "source": [
    "# Get atomic number, charge state, ground-truth geometry and momentum\n",
    "num_atoms = int(variation.split('_')[0])\n",
    "counter = {}\n",
    "z_dict = {} # atomic number\n",
    "q_dict = {} # chareg state\n",
    "geom_dict = {} # geometry\n",
    "momen_dict = {} # momentum\n",
    "df = load_obj(location)\n",
    "\n",
    "for i in range(num_atoms):\n",
    "    atom = df.iloc[df_index]['atom_'+str(i+1)]\n",
    "    if atom not in counter.keys():\n",
    "        counter[atom] = 1\n",
    "    else:\n",
    "        counter [atom] += 1\n",
    "    z_dict[atom+str(counter[atom])] = Z_dict[atom]\n",
    "    q_dict[atom+str(counter[atom])] = int(df.iloc[df_index]['q_'+str(i+1)])\n",
    "    geom_dict[atom+str(counter[atom])] = np.array([df.iloc[df_index]['x_'+str(i+1)], df.iloc[df_index]['y_'+str(i+1)], df.iloc[df_index]['z_'+str(i+1)]])\n",
    "    momen_dict[atom+str(counter[atom])] = np.array([df.iloc[df_index]['px_'+str(i+1)], df.iloc[df_index]['py_'+str(i+1)], df.iloc[df_index]['pz_'+str(i+1)]])"
   ]
  },
  {
   "cell_type": "code",
   "execution_count": 17,
   "id": "9b7c926b-833d-4f1f-a682-80d67924b05c",
   "metadata": {},
   "outputs": [
    {
     "data": {
      "text/plain": [
       "({'Cl1': 17, 'Cl2': 17, 'C1': 6, 'H1': 1, 'H2': 1},\n",
       " {'Cl1': 11, 'Cl2': 9, 'C1': 2, 'H1': 1, 'H2': 1},\n",
       " {'Cl1': array([3.23785309e+00, 0.00000000e+00, 1.11022302e-16]),\n",
       "  'Cl2': array([-1.69812368, -1.63840275,  2.21687154]),\n",
       "  'C1': array([-0.13731963,  0.14599576, -0.19748977]),\n",
       "  'H1': array([-7.01144596e-01,  2.11242760e+00,  5.55111512e-17]),\n",
       "  'H2': array([-0.70126518, -0.6200206 , -2.01938177])},\n",
       " {'Cl1': array([ 1.16145918e+03, -2.16546358e-15,  1.74401939e-15]),\n",
       "  'Cl2': array([-950.8006898 , -366.10833699,  374.44491917]),\n",
       "  'C1': array([-150.79687258,  251.61855298, -262.5184522 ]),\n",
       "  'H1': array([-2.78753899e+01,  1.14453722e+02, -3.95021317e-16]),\n",
       "  'H2': array([ -29.75563561,   -1.25618022, -110.15187724])})"
      ]
     },
     "execution_count": 17,
     "metadata": {},
     "output_type": "execute_result"
    }
   ],
   "source": [
    "z_dict, q_dict, geom_dict, momen_dict"
   ]
  },
  {
   "cell_type": "markdown",
   "id": "5cb5ada2-69d7-4399-9d93-b53afaacfdb1",
   "metadata": {},
   "source": [
    "#### Option B - define the input by yourself"
   ]
  },
  {
   "cell_type": "code",
   "execution_count": 14,
   "id": "3997d824-fdb0-4177-b887-13672813e477",
   "metadata": {},
   "outputs": [],
   "source": [
    "z_dict = {'Cl1': 17, 'Cl2': 17, 'C1': 6, 'H1': 1, 'H2': 1} # atomic number\n",
    "\n",
    "q_dict = {'Cl1': 11, 'Cl2': 9, 'C1': 2, 'H1': 1, 'H2': 1} # chareg state\n",
    "\n",
    "geom_dict =  {'Cl1': np.array([3.23785309e+00, 0.00000000e+00, 1.11022302e-16]),\n",
    "  'Cl2': np.array([-1.69812368, -1.63840275,  2.21687154]),\n",
    "  'C1': np.array([-0.13731963,  0.14599576, -0.19748977]),\n",
    "  'H1': np.array([-7.01144596e-01,  2.11242760e+00,  5.55111512e-17]),\n",
    "  'H2': np.array([-0.70126518, -0.6200206 , -2.01938177])} # ground-truth geometry\n",
    "\n",
    "momen_dict =  {'Cl1': np.array([ 1.16145918e+03, -2.16546358e-15,  1.74401939e-15]),\n",
    "  'Cl2': np.array([-950.8006898 , -366.10833699,  374.44491917]),\n",
    "  'C1': np.array([-150.79687258,  251.61855298, -262.5184522 ]),\n",
    "  'H1': np.array([-2.78753899e+01,  1.14453722e+02, -3.95021317e-16]),\n",
    "  'H2': np.array([ -29.75563561,   -1.25618022, -110.15187724])} # momentum"
   ]
  },
  {
   "cell_type": "code",
   "execution_count": null,
   "id": "d2ba9ea3-6aa3-47ab-a687-2447c03fcbc0",
   "metadata": {},
   "outputs": [],
   "source": []
  },
  {
   "cell_type": "markdown",
   "id": "edcdb5ad-1423-476f-9c0a-fdd380fe7a88",
   "metadata": {},
   "source": [
    "### 2. Batch creation\n",
    "Define the molecular frame, transform the momentum and geometry to this frame and assemble the molecular data to a batch"
   ]
  },
  {
   "cell_type": "code",
   "execution_count": 18,
   "id": "268506b7-cb42-485a-9a56-8c7d334d46e2",
   "metadata": {},
   "outputs": [],
   "source": [
    "sorted_atom_lst = sort_atoms(z_dict)\n",
    "\n",
    "momen_dict_td, ptc1, ptc2 = momentum_transform(momen_dict, sorted_atom_lst)\n",
    "geom_dict_td = geom_transform(geom_dict, ptc1, ptc2)\n",
    "\n",
    "anchor_atoms = [ptc1, ptc2]\n",
    "atom_lst = anchor_atoms+[atom for atom in sorted_atom_lst if atom not in anchor_atoms]\n",
    "\n",
    "batch = get_batch(mol_name, variation, atom_lst, z_dict, q_dict, geom_dict_td, momen_dict_td)"
   ]
  },
  {
   "cell_type": "code",
   "execution_count": 19,
   "id": "18a301f7-78a3-40eb-8874-9318205cf7e1",
   "metadata": {},
   "outputs": [
    {
     "data": {
      "text/plain": [
       "Data(y=[5, 3], pos=[5, 3], mol_name='CH2Cl2', variation='5', z=[5], q=[5], batch=[5], natoms=[1])"
      ]
     },
     "execution_count": 19,
     "metadata": {},
     "output_type": "execute_result"
    }
   ],
   "source": [
    "batch"
   ]
  },
  {
   "cell_type": "markdown",
   "id": "f1624eaf-629b-4caf-9c32-66571edf6f26",
   "metadata": {},
   "source": [
    "### 3. Predict molecular geometry"
   ]
  },
  {
   "cell_type": "code",
   "execution_count": 20,
   "id": "9fb63eae-c22a-46b0-8303-dedfa3149f8d",
   "metadata": {},
   "outputs": [
    {
     "name": "stdout",
     "output_type": "stream",
     "text": [
      "Molecule: CH2Cl2 Variation type: 5\n",
      "+-----+-----------------+-----------------+-----------------+\n",
      "|Atom |    X (a.u.)     |    Y (a.u.)     |    Z (a.u.)     |\n",
      "+-----+-----------------+-----------------+-----------------+\n",
      "Prediction:\n",
      "|Cl   |  3.231 ± 0.130  |  0.121 ± 0.102  | -0.022 ± 0.000  |\n",
      "+-----+-----------------+-----------------+-----------------+\n",
      "|H    | -0.780 ± 0.218  |  1.988 ± 0.090  | -0.015 ± 0.000  |\n",
      "+-----+-----------------+-----------------+-----------------+\n",
      "|Cl   | -1.893 ± 0.265  | -1.584 ± 0.231  |  2.145 ± 0.210  |\n",
      "+-----+-----------------+-----------------+-----------------+\n",
      "|C    | -0.148 ± 0.111  |  0.231 ± 0.067  | -0.161 ± 0.118  |\n",
      "+-----+-----------------+-----------------+-----------------+\n",
      "|H    | -0.754 ± 0.221  | -0.557 ± 0.148  | -1.944 ± 0.161  |\n",
      "+-----+-----------------+-----------------+-----------------+\n",
      "Ground truth:\n",
      "|Cl   |      3.238      |      0.000      |      0.000      |\n",
      "+-----+-----------------+-----------------+-----------------+\n",
      "|H    |     -0.701      |      2.112      |      0.000      |\n",
      "+-----+-----------------+-----------------+-----------------+\n",
      "|Cl   |     -1.698      |     -1.638      |      2.217      |\n",
      "+-----+-----------------+-----------------+-----------------+\n",
      "|C    |     -0.137      |      0.146      |     -0.197      |\n",
      "+-----+-----------------+-----------------+-----------------+\n",
      "|H    |     -0.701      |     -0.620      |     -2.019      |\n",
      "+-----+-----------------+-----------------+-----------------+\n",
      "RMSE (a.u.): 0.083 MAE (a.u.): 0.067\n"
     ]
    }
   ],
   "source": [
    "batch = batch.to(def_device)\n",
    "pred = (learn.predict_batch(batch)).squeeze()\n",
    "ys = batch.y\n",
    "zs = batch.z.tolist()\n",
    "err_pred = learn.model.err_pred.squeeze()\n",
    "\n",
    "RMSE = ((pred-ys)**2).mean().sqrt()       \n",
    "MAE = torch.abs(pred-ys).mean()\n",
    "\n",
    "print('Molecule:', batch.mol_name, 'Variation type:', batch.variation)\n",
    "\n",
    "indent = \"\"\n",
    "atom_col_width = 5\n",
    "num_col_width  = 17\n",
    "\n",
    "separator = (\n",
    "    f\"{indent}+{'-'*atom_col_width}\"\n",
    "    f\"+{'-'*num_col_width}\"\n",
    "    f\"+{'-'*num_col_width}\"\n",
    "    f\"+{'-'*num_col_width}+\"\n",
    ")\n",
    "\n",
    "print(separator)\n",
    "print(\n",
    "    f\"{indent}|{'Atom':<{atom_col_width}}\"\n",
    "    f\"|{'X (a.u.)':^{num_col_width}}\"\n",
    "    f\"|{'Y (a.u.)':^{num_col_width}}\"\n",
    "    f\"|{'Z (a.u.)':^{num_col_width}}|\"\n",
    ")\n",
    "print(separator)\n",
    "\n",
    "print(\"Prediction:\")\n",
    "for i, row in enumerate(pred):\n",
    "    atom_name = Z_dict_inverse[zs[i]]\n",
    "    x, y, z = map(lambda coord: round(coord, 3), row.tolist())\n",
    "    x_err, y_err, z_err = map(lambda coord: round(coord, 3), err_pred[i].tolist())\n",
    "    print(\n",
    "        f\"{indent}|{atom_name:<{atom_col_width}}\"\n",
    "        f\"|{f'{x:.3f} ± {x_err:.3f}':^{num_col_width}}\"\n",
    "        f\"|{f'{y:.3f} ± {y_err:.3f}':^{num_col_width}}\"\n",
    "        f\"|{f'{z:.3f} ± {z_err:.3f}':^{num_col_width}}|\"\n",
    "    )\n",
    "    print(separator)\n",
    "\n",
    "print(\"Ground truth:\")\n",
    "for i, row in enumerate(ys):\n",
    "    atom_name = Z_dict_inverse[zs[i]]\n",
    "    x, y, z = map(lambda coord: round(coord, 3), row.tolist())\n",
    "    print(\n",
    "        f\"{indent}|{atom_name:<{atom_col_width}}\"\n",
    "        f\"|{f'{x:.3f}':^{num_col_width}}\"\n",
    "        f\"|{f'{y:.3f}':^{num_col_width}}\"\n",
    "        f\"|{f'{z:.3f}':^{num_col_width}}|\"\n",
    "    )\n",
    "    print(separator)\n",
    "\n",
    "print('RMSE (a.u.):', round(RMSE.item(),3), 'MAE (a.u.):', round(MAE.item(), 3)) \n",
    "\n",
    "\n",
    "\n"
   ]
  },
  {
   "cell_type": "code",
   "execution_count": null,
   "id": "63bb978a-3c64-47a0-8272-4fa8a80eb3e2",
   "metadata": {},
   "outputs": [],
   "source": []
  }
 ],
 "metadata": {
  "kernelspec": {
   "display_name": "Python 3 (ipykernel)",
   "language": "python",
   "name": "python3"
  },
  "language_info": {
   "codemirror_mode": {
    "name": "ipython",
    "version": 3
   },
   "file_extension": ".py",
   "mimetype": "text/x-python",
   "name": "python",
   "nbconvert_exporter": "python",
   "pygments_lexer": "ipython3",
   "version": "3.9.20"
  }
 },
 "nbformat": 4,
 "nbformat_minor": 5
}
